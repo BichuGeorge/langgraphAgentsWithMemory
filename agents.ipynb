{
 "cells": [
  {
   "cell_type": "code",
   "execution_count": 1,
   "metadata": {},
   "outputs": [
    {
     "data": {
      "text/plain": [
       "True"
      ]
     },
     "execution_count": 1,
     "metadata": {},
     "output_type": "execute_result"
    }
   ],
   "source": [
    "import os\n",
    "from dotenv import load_dotenv\n",
    "from langchain_groq import ChatGroq\n",
    "load_dotenv()"
   ]
  },
  {
   "cell_type": "code",
   "execution_count": 2,
   "metadata": {},
   "outputs": [],
   "source": [
    "groq_key = os.getenv(\"GROQ_API_KEY\")\n",
    "groq_model = ChatGroq(\n",
    "    model=\"llama3-70b-8192\",\n",
    "    groq_api_key=groq_key)"
   ]
  },
  {
   "cell_type": "code",
   "execution_count": 5,
   "metadata": {},
   "outputs": [
    {
     "data": {
      "text/plain": [
       "AIMessage(content=\"Generating a cat image using Python requires some understanding of image processing and libraries like Pillow (PIL) or OpenCV. Here's a simple example of how you can generate a cat image using Python:\\n\\n**Method 1: Using Pillow (PIL)**\\n```python\\nfrom PIL import Image, ImageDraw\\n\\n# Create a new image with a white background\\nimg = Image.new('RGB', (200, 200), (255, 255, 255))\\n\\n# Draw the cat's body\\ndraw = ImageDraw.Draw(img)\\ndraw.ellipse((50, 50, 150, 150), fill=(128, 128, 128))  # gray body\\n\\n# Draw the cat's ears\\ndraw.polygon([(75, 75), (125, 75), (100, 50)], fill=(128, 128, 128))  # left ear\\ndraw.polygon([(75, 125), (125, 125), (100, 150)], fill=(128, 128, 128))  # right ear\\n\\n# Draw the cat's eyes and nose\\ndraw.ellipse((90, 90, 110, 110), fill=(0, 0, 0))  # left eye\\ndraw.ellipse((90, 130, 110, 150), fill=(0, 0, 0))  # right eye\\ndraw.line((100, 120, 100, 140), fill=(0, 0, 0), width=2)  # nose\\n\\n# Save the image\\nimg.save('cat.png')\\n```\\nThis code generates a simple cat image with a gray body, ears, eyes, and nose. You can adjust the coordinates and colors to create different cat breeds or styles.\\n\\n**Method 2: Using OpenCV**\\n```python\\nimport cv2\\nimport numpy as np\\n\\n# Create a new image with a white background\\nimg = np.zeros((200, 200, 3), dtype=np.uint8)\\nimg[:] = (255, 255, 255)\\n\\n# Draw the cat's body\\ncv2.ellipse(img, (100, 100), (50, 50), 0, 0, 360, (128, 128, 128), -1)\\n\\n# Draw the cat's ears\\ncv2.polygon(img, np.array([[75, 75], [125, 75], [100, 50]]), True, (128, 128, 128), 1)\\ncv2.polygon(img, np.array([[75, 125], [125, 125], [100, 150]]), True, (128, 128, 128), 1)\\n\\n# Draw the cat's eyes and nose\\ncv2.circle(img, (100, 100), 10, (0, 0, 0), -1)  # left eye\\ncv2.circle(img, (100, 140), 10, (0, 0, 0), -1)  # right eye\\ncv2.line(img, (100, 120), (100, 140), (0, 0, 0), 2)  # nose\\n\\n# Save the image\\ncv2.imwrite('cat.png', img)\\n```\\nThis code generates a similar cat image using OpenCV. Note that OpenCV uses BGR color order instead of RGB, so the color values are different.\\n\\nThese are just simple examples, and you can add more features, colors, and details to create a more realistic cat image.\", additional_kwargs={}, response_metadata={'token_usage': {'completion_tokens': 739, 'prompt_tokens': 33, 'total_tokens': 772, 'completion_time': 2.111428571, 'prompt_time': 0.001661027, 'queue_time': 0.053208484, 'total_time': 2.113089598}, 'model_name': 'llama3-70b-8192', 'system_fingerprint': 'fp_2e0feca3c9', 'finish_reason': 'stop', 'logprobs': None}, id='run-f829fe0e-54e5-4670-bb33-dc917eeb5e1e-0', usage_metadata={'input_tokens': 33, 'output_tokens': 739, 'total_tokens': 772})"
      ]
     },
     "execution_count": 5,
     "metadata": {},
     "output_type": "execute_result"
    }
   ],
   "source": [
    "messages = [\n",
    "    (\n",
    "        \"system\", \"You are an expert about python coding\"\n",
    "    ),\n",
    "    (\n",
    "        \"human\", \"Hey I need a python code to generate a cat image\"\n",
    "    )\n",
    "\n",
    "]\n",
    "response = groq_model.invoke(\n",
    "    messages\n",
    ")\n",
    "response"
   ]
  },
  {
   "cell_type": "code",
   "execution_count": 7,
   "metadata": {},
   "outputs": [
    {
     "name": "stdout",
     "output_type": "stream",
     "text": [
      "Generating a cat image using Python requires some understanding of image processing and libraries like Pillow (PIL) or OpenCV. Here's a simple example of how you can generate a cat image using Python:\n",
      "\n",
      "**Method 1: Using Pillow (PIL)**\n",
      "```python\n",
      "from PIL import Image, ImageDraw\n",
      "\n",
      "# Create a new image with a white background\n",
      "img = Image.new('RGB', (200, 200), (255, 255, 255))\n",
      "\n",
      "# Draw the cat's body\n",
      "draw = ImageDraw.Draw(img)\n",
      "draw.ellipse((50, 50, 150, 150), fill=(128, 128, 128))  # gray body\n",
      "\n",
      "# Draw the cat's ears\n",
      "draw.polygon([(75, 75), (125, 75), (100, 50)], fill=(128, 128, 128))  # left ear\n",
      "draw.polygon([(75, 125), (125, 125), (100, 150)], fill=(128, 128, 128))  # right ear\n",
      "\n",
      "# Draw the cat's eyes and nose\n",
      "draw.ellipse((90, 90, 110, 110), fill=(0, 0, 0))  # left eye\n",
      "draw.ellipse((90, 130, 110, 150), fill=(0, 0, 0))  # right eye\n",
      "draw.line((100, 120, 100, 140), fill=(0, 0, 0), width=2)  # nose\n",
      "\n",
      "# Save the image\n",
      "img.save('cat.png')\n",
      "```\n",
      "This code generates a simple cat image with a gray body, ears, eyes, and nose. You can adjust the coordinates and colors to create different cat breeds or styles.\n",
      "\n",
      "**Method 2: Using OpenCV**\n",
      "```python\n",
      "import cv2\n",
      "import numpy as np\n",
      "\n",
      "# Create a new image with a white background\n",
      "img = np.zeros((200, 200, 3), dtype=np.uint8)\n",
      "img[:] = (255, 255, 255)\n",
      "\n",
      "# Draw the cat's body\n",
      "cv2.ellipse(img, (100, 100), (50, 50), 0, 0, 360, (128, 128, 128), -1)\n",
      "\n",
      "# Draw the cat's ears\n",
      "cv2.polygon(img, np.array([[75, 75], [125, 75], [100, 50]]), True, (128, 128, 128), 1)\n",
      "cv2.polygon(img, np.array([[75, 125], [125, 125], [100, 150]]), True, (128, 128, 128), 1)\n",
      "\n",
      "# Draw the cat's eyes and nose\n",
      "cv2.circle(img, (100, 100), 10, (0, 0, 0), -1)  # left eye\n",
      "cv2.circle(img, (100, 140), 10, (0, 0, 0), -1)  # right eye\n",
      "cv2.line(img, (100, 120), (100, 140), (0, 0, 0), 2)  # nose\n",
      "\n",
      "# Save the image\n",
      "cv2.imwrite('cat.png', img)\n",
      "```\n",
      "This code generates a similar cat image using OpenCV. Note that OpenCV uses BGR color order instead of RGB, so the color values are different.\n",
      "\n",
      "These are just simple examples, and you can add more features, colors, and details to create a more realistic cat image.\n"
     ]
    }
   ],
   "source": [
    "print(response.content)"
   ]
  },
  {
   "cell_type": "markdown",
   "metadata": {},
   "source": [
    "### Tavily Search Tool"
   ]
  },
  {
   "cell_type": "code",
   "execution_count": null,
   "metadata": {},
   "outputs": [
    {
     "data": {
      "text/plain": [
       "[{'title': 'M 7.7 - 2025 Mandalay, Burma (Myanmar) Earthquake',\n",
       "  'url': 'https://earthquake.usgs.gov/earthquakes/eventpage/us7000pn9s/executive',\n",
       "  'content': 'The March 28, 2025, M7.7 earthquake near Mandalay, Burma (Myanmar), occurred as the result of strike slip faulting between the India and Eurasia plates. Focal mechanism solutions indicate that slip occurred on either a north-striking, steeply-dipping, right-lateral fault, or a west striking, steeply-dipping, left-lateral fault. The finite fault solution indicates a north striking right-lateral fault. This focal mechanism and finite fault solution are consistent with the earthquake potentially [...] Seismicity](https://earthquake.usgs.gov/earthquakes/map/#%7B%22autoUpdate%22%3Afalse%2C%22basemap%22%3A%22terrain%22%2C%22event%22%3A%22us7000pn9s%22%2C%22feed%22%3A%22us7000pn9s%22%2C%22mapposition%22%3A%5B%5B19.746479985601155%2C93.67597998560115%5D%2C%5B24.246120014398848%2C98.17562001439885%5D%5D%2C%22search%22%3A%7B%22id%22%3A%22us7000pn9s%22%2C%22isSearch%22%3Atrue%2C%22name%22%3A%22Search%20Results%22%2C%22params%22%3A%7B%22endtime%22%3A%222025-04-18T06%3A20%3A52 [...] .684Z%22%2C%22latitude%22%3A21.9963%2C%22longitude%22%3A95.9258%2C%22maxradiuskm%22%3A250%2C%22minmagnitude%22%3A4%2C%22starttime%22%3A%222025-03-07T06%3A20%3A52.684Z%22%7D%7D%7D)',\n",
       "  'score': 0.90102744},\n",
       " {'title': 'WHO response to Myanmar Earthquake 2025',\n",
       "  'url': 'https://www.who.int/southeastasia/news/detail/01-04-2025-who-response-mmr-eq25',\n",
       "  'content': \"On 28 March 2025, two powerful earthquakes struck central Myanmar's Sagaing Region near Mandalay. The first, with a magnitude of 7.7,\",\n",
       "  'score': 0.8568246}]"
      ]
     },
     "execution_count": 3,
     "metadata": {},
     "output_type": "execute_result"
    }
   ],
   "source": [
    "from langchain_community.tools.tavily_search import TavilySearchResults\n",
    "search = TavilySearchResults(max_results=2)\n",
    "search.invoke(\n",
    "    \"Tell me about 2025 Myanmar earthquake.\"\n",
    ")"
   ]
  },
  {
   "cell_type": "code",
   "execution_count": 13,
   "metadata": {},
   "outputs": [
    {
     "data": {
      "text/plain": [
       "[{'title': '2025 ICC Champions Trophy - Wikipedia',\n",
       "  'url': 'https://en.wikipedia.org/wiki/2025_ICC_Champions_Trophy',\n",
       "  'content': 'The 2025 ICC Champions Trophy is the ninth edition of the ICC Champions Trophy. It is being hosted by Pakistan Cricket Board from 19 February to 9 March 2025. It features 15 matches being played across three venues in Pakistan and one in the United Arab Emirates. [...] ^ \"Gill nails century as India kickstart Champions Trophy campaign with win over Bangladesh\". International Cricket Council. 20 February 2025.\\n^ \"Rickelton headlines Proteas\\' emphatic win over Champions Trophy debutants Afghanistan\". International Cricket Council. 21 February 2025. Retrieved 21 February 2025.\\n^ \"Ben Duckett goes past Ganguly, Tendulkar to achieve big Champions Trophy milestone as England pile misery on Australia\". Hindustan Times. Retrieved 22 February 2025. [...] ^ \"Ravindra ton powers NZ into Champions Trophy semis as hosts Pakistan knocked out\". DAWN.COM. 24 February 2025. Retrieved 27 February 2025.\\n^ \"New Zealand, India through to Champions Trophy semi-finals\". ESPN. 24 February 2025. Retrieved 27 February 2025.\\n^ \"Zadran and Omarzai star as Afghanistan seize thriller over England in Champions Trophy\". ICC. 26 February 2025. Retrieved 27 February 2025.',\n",
       "  'score': 0.92142147},\n",
       " {'title': 'ICC Champions Trophy 2025: All scores, results, points table ...',\n",
       "  'url': 'https://www.olympics.com/en/news/icc-champions-trophy-2025-cricket-scores-results-standings-points-table-nrr',\n",
       "  'content': 'The ICC Champions Trophy 2025 officially got underway on February 19 with hosts Pakistan losing against New Zealand by 60 runs in the tournament opener at the National Stadium in Karachi.\\nEight teams are competing for the Champions Trophy 2025 title. Here are all the squads.\\nIndia, Pakistan, Bangladesh and New Zealand were clubbed in Group A while Afghanistan, Australia, England and South Africa are placed in Group B.\\nICC Champions Trophy 2025 results and scores [...] The 2025 ICC Champions Trophy is the ninth edition of the tournament and it is being co-hosted by Pakistan and the UAE.\\nPakistan won the 2017 edition, having beaten rivals India by 180 runs in the final.\\nAustralia and India are the two most successful teams in the history of the Champions Trophy having won the coveted trophy twice each. New Zealand and South Africa have won the trophy once each. [...] Love Cricket?🏏 Sign up for free to stream \"Sports Swap India\" Original Series and watch Indian cricketers try new sports.\\nThe National Stadium in Karachi, the Dubai International Cricket Stadium, the Gaddafi Stadium in Lahore and the Rawalpindi Cricket Stadium are the four venues for Champions Trophy 2025.\\nA total of 15 matches will be played in the tournament, including both group and knockout fixtures.',\n",
       "  'score': 0.84707206}]"
      ]
     },
     "execution_count": 13,
     "metadata": {},
     "output_type": "execute_result"
    }
   ],
   "source": [
    "search_cricket = TavilySearchResults(max_results=2)\n",
    "search_cricket.invoke(\n",
    "    \"Tell me about 2025 Champions Trophy.\"\n",
    ")"
   ]
  },
  {
   "cell_type": "code",
   "execution_count": 14,
   "metadata": {},
   "outputs": [
    {
     "data": {
      "text/plain": [
       "[TavilySearchResults(max_results=2, api_wrapper=TavilySearchAPIWrapper(tavily_api_key=SecretStr('**********')))]"
      ]
     },
     "execution_count": 14,
     "metadata": {},
     "output_type": "execute_result"
    }
   ],
   "source": [
    "search_cricket = TavilySearchResults(max_results=2)\n",
    "search_cricket.invoke(\n",
    "    \"Tell me about 2025 Champions Trophy.\"\n",
    ")\n",
    "tool_cricket = [search_cricket]\n",
    "tool_cricket"
   ]
  },
  {
   "cell_type": "code",
   "execution_count": 9,
   "metadata": {},
   "outputs": [
    {
     "data": {
      "text/plain": [
       "[TavilySearchResults(max_results=2, api_wrapper=TavilySearchAPIWrapper(tavily_api_key=SecretStr('**********')))]"
      ]
     },
     "execution_count": 9,
     "metadata": {},
     "output_type": "execute_result"
    }
   ],
   "source": [
    "tool = [search]\n",
    "tool"
   ]
  },
  {
   "cell_type": "code",
   "execution_count": 10,
   "metadata": {},
   "outputs": [],
   "source": [
    "from langgraph.prebuilt import create_react_agent\n",
    "agent_executor = create_react_agent(\n",
    "    groq_model,\n",
    "    tool\n",
    ")"
   ]
  },
  {
   "cell_type": "code",
   "execution_count": 12,
   "metadata": {},
   "outputs": [
    {
     "name": "stdout",
     "output_type": "stream",
     "text": [
      "{'messages': [HumanMessage(content='Tell me about 2025 Myanmar earthquake.', additional_kwargs={}, response_metadata={}, id='d4a44a70-28de-4069-83df-1b102ed26de8'), AIMessage(content='', additional_kwargs={'tool_calls': [{'id': 'call_yb94', 'function': {'arguments': '{\"query\":\"2025 Myanmar earthquake\"}', 'name': 'tavily_search_results_json'}, 'type': 'function'}]}, response_metadata={'token_usage': {'completion_tokens': 50, 'prompt_tokens': 948, 'total_tokens': 998, 'completion_time': 0.142857143, 'prompt_time': 0.040975583, 'queue_time': 0.06182883499999999, 'total_time': 0.183832726}, 'model_name': 'llama3-70b-8192', 'system_fingerprint': 'fp_2e0feca3c9', 'finish_reason': 'tool_calls', 'logprobs': None}, id='run-70d74c78-61f7-4807-9faf-9c0153fc30d6-0', tool_calls=[{'name': 'tavily_search_results_json', 'args': {'query': '2025 Myanmar earthquake'}, 'id': 'call_yb94', 'type': 'tool_call'}], usage_metadata={'input_tokens': 948, 'output_tokens': 50, 'total_tokens': 998}), ToolMessage(content='[{\"title\": \"2025 Myanmar earthquake - Wikipedia\", \"url\": \"https://en.wikipedia.org/wiki/2025_Myanmar_earthquake\", \"content\": \"On 28 March 2025 at 12:50:52 MMT (06:20:52 UTC), a Mw 7.7 earthquake struck the Sagaing Region of Myanmar, with an epicenter close to Mandalay, the country\\'s second-largest city. The strike-slip shock achieved a maximum Modified Mercalli intensity of IX (Violent).[2] It was the most powerful earthquake to strike Myanmar since 1912,[3] and the second deadliest in Myanmar\\'s modern history, surpassed only by upper estimates of the 1930 Bago earthquake.[4] The earthquake caused extensive damage in [...] Duration | 85 seconds\\\\nMagnitude | Mw7.7\\\\nDepth | 10\\xa0km (6\\xa0mi)\\\\nEpicenter | 21°59′46″N95°55′34″E\\ufeff / \\ufeff21.996°N 95.926°E\\ufeff /21.996; 95.926\\\\nFault | Sagaing Fault\\\\nType | Strike-slip,supershear\\\\nAreas affected | Myanmar, Thailand,Southwestern China\\\\nMax.intensity | MMI IX (Violent)\\\\nAftershocks | 169+ recordedStrongest: Mww6.7[1]\\\\nCasualties | 3,610+ fatalities, 4,610+ injuries, many trapped or missing [...] | This article is about  acurrent  disasterwhere information canchange quickly or be unreliable. Thelatest page updatesmay not reflectthe most up-to-date information.Please helpimprove this articleusingreliable sourcesor help by discussing changes on thetalk page.(Learn how and when to remove this message)\\\\nEarthquake damage inMandalay\\\\nUSGSShakeMap\\\\nUTCtime | 2025-03-28 06:20:52\\\\nISCevent | 643071319\\\\nUSGS-ANSS | ComCat\\\\nLocal\\xa0date | 28\\xa0March\\xa02025(2025-3-28)\\\\nLocal\\xa0time | 12:50:52MMT(UTC+6:30)\", \"score\": 0.9549888}, {\"title\": \"What kind of support is the U.S. offering in the wake of the Myanmar ...\", \"url\": \"https://www.npr.org/sections/goats-and-soda/2025/04/01/g-s1-57335/what-kind-of-support-is-the-u-s-offering-in-the-wake-of-the-myanmar-quake\", \"content\": \"Rescue teams are seen at a construction site where a building collapsed in Bangkok on March 28, 2025, after an earthquake. A powerful earthquake rocked central Myanmar on March 28, buckling roads in the capital Naypyidaw, damaging buildings and affecting neighboring Thailand as well, where people fled into the streets for safety.\\\\n                \\\\n                    \\\\n                    Lillian Suwanrumpha/AFP via Getty Images\\\\n                    \\\\n                \\\\nhide caption\", \"score\": 0.84858394}]', name='tavily_search_results_json', id='3c54481a-05bf-4a5e-a1af-0c096ec0cbd2', tool_call_id='call_yb94', artifact={'query': '2025 Myanmar earthquake', 'follow_up_questions': None, 'answer': None, 'images': [], 'results': [{'url': 'https://en.wikipedia.org/wiki/2025_Myanmar_earthquake', 'title': '2025 Myanmar earthquake - Wikipedia', 'content': \"On 28 March 2025 at 12:50:52 MMT (06:20:52 UTC), a Mw 7.7 earthquake struck the Sagaing Region of Myanmar, with an epicenter close to Mandalay, the country's second-largest city. The strike-slip shock achieved a maximum Modified Mercalli intensity of IX (Violent).[2] It was the most powerful earthquake to strike Myanmar since 1912,[3] and the second deadliest in Myanmar's modern history, surpassed only by upper estimates of the 1930 Bago earthquake.[4] The earthquake caused extensive damage in [...] Duration | 85 seconds\\nMagnitude | Mw7.7\\nDepth | 10\\xa0km (6\\xa0mi)\\nEpicenter | 21°59′46″N95°55′34″E\\ufeff / \\ufeff21.996°N 95.926°E\\ufeff /21.996; 95.926\\nFault | Sagaing Fault\\nType | Strike-slip,supershear\\nAreas affected | Myanmar, Thailand,Southwestern China\\nMax.intensity | MMI IX (Violent)\\nAftershocks | 169+ recordedStrongest: Mww6.7[1]\\nCasualties | 3,610+ fatalities, 4,610+ injuries, many trapped or missing [...] | This article is about  acurrent  disasterwhere information canchange quickly or be unreliable. Thelatest page updatesmay not reflectthe most up-to-date information.Please helpimprove this articleusingreliable sourcesor help by discussing changes on thetalk page.(Learn how and when to remove this message)\\nEarthquake damage inMandalay\\nUSGSShakeMap\\nUTCtime | 2025-03-28 06:20:52\\nISCevent | 643071319\\nUSGS-ANSS | ComCat\\nLocal\\xa0date | 28\\xa0March\\xa02025(2025-3-28)\\nLocal\\xa0time | 12:50:52MMT(UTC+6:30)\", 'score': 0.9549888, 'raw_content': None}, {'url': 'https://www.npr.org/sections/goats-and-soda/2025/04/01/g-s1-57335/what-kind-of-support-is-the-u-s-offering-in-the-wake-of-the-myanmar-quake', 'title': 'What kind of support is the U.S. offering in the wake of the Myanmar ...', 'content': 'Rescue teams are seen at a construction site where a building collapsed in Bangkok on March 28, 2025, after an earthquake. A powerful earthquake rocked central Myanmar on March 28, buckling roads in the capital Naypyidaw, damaging buildings and affecting neighboring Thailand as well, where people fled into the streets for safety.\\n                \\n                    \\n                    Lillian Suwanrumpha/AFP via Getty Images\\n                    \\n                \\nhide caption', 'score': 0.84858394, 'raw_content': None}], 'response_time': 1.99}), AIMessage(content=\"Here's a summary of the 2025 Myanmar earthquake based on the search results:\\n\\nOn March 28, 2025, a powerful Mw 7.7 earthquake struck the Sagaing Region of Myanmar, with an epicenter close to Mandalay. The earthquake had a maximum Modified Mercalli intensity of IX (Violent) and lasted for approximately 85 seconds. The quake caused extensive damage in Myanmar, Thailand, and southwestern China, resulting in at least 3,610 fatalities, 4,610 injuries, and many trapped or missing.\", additional_kwargs={}, response_metadata={'token_usage': {'completion_tokens': 112, 'prompt_tokens': 1670, 'total_tokens': 1782, 'completion_time': 0.32, 'prompt_time': 0.066931137, 'queue_time': 0.054788683000000005, 'total_time': 0.386931137}, 'model_name': 'llama3-70b-8192', 'system_fingerprint': 'fp_2e0feca3c9', 'finish_reason': 'stop', 'logprobs': None}, id='run-d7efb95c-037d-4074-a77a-093e9ae8ac2d-0', usage_metadata={'input_tokens': 1670, 'output_tokens': 112, 'total_tokens': 1782})]}\n"
     ]
    }
   ],
   "source": [
    "from langchain_core.messages import HumanMessage\n",
    "response = agent_executor.invoke(\n",
    "    {\n",
    "        \"messages\": [HumanMessage(content=\"Tell me about 2025 Myanmar earthquake.\")]\n",
    "    }\n",
    ")\n",
    "print(response)"
   ]
  },
  {
   "cell_type": "code",
   "execution_count": 18,
   "metadata": {},
   "outputs": [
    {
     "name": "stdout",
     "output_type": "stream",
     "text": [
      "**User:** Tell me about 2025 Myanmar earthquake.\n",
      "\n",
      "**AI:** \n",
      "\n",
      "**Tool Output:**\n",
      "- 2025 Myanmar earthquake - Wikipedia (https://en.wikipedia.org/wiki/2025_Myanmar_earthquake)\n",
      "- What kind of support is the U.S. offering in the wake of the Myanmar ... (https://www.npr.org/sections/goats-and-soda/2025/04/01/g-s1-57335/what-kind-of-support-is-the-u-s-offering-in-the-wake-of-the-myanmar-quake)\n",
      "\n",
      "**AI:** Here's a summary of the 2025 Myanmar earthquake based on the search results:\n",
      "\n",
      "On March 28, 2025, a powerful Mw 7.7 earthquake struck the Sagaing Region of Myanmar, with an epicenter close to Mandalay. The earthquake had a maximum Modified Mercalli intensity of IX (Violent) and lasted for approximately 85 seconds. The quake caused extensive damage in Myanmar, Thailand, and southwestern China, resulting in at least 3,610 fatalities, 4,610 injuries, and many trapped or missing.\n",
      "\n"
     ]
    }
   ],
   "source": [
    "import json\n",
    "from langchain_core.messages import AIMessage, HumanMessage, ToolMessage\n",
    "\n",
    "# Extract messages from response\n",
    "messages = response[\"messages\"]\n",
    "\n",
    "# Function to format messages cleanly\n",
    "def format_message(msg):\n",
    "    if isinstance(msg, HumanMessage):\n",
    "        return f\"**User:** {msg.content}\\n\"\n",
    "    elif isinstance(msg, AIMessage):\n",
    "        return f\"**AI:** {msg.content}\\n\"\n",
    "    elif isinstance(msg, ToolMessage):\n",
    "        try:\n",
    "            tool_output = json.loads(msg.content)\n",
    "            formatted_tool_output = \"\\n\".join(\n",
    "                [f\"- {item['title']} ({item['url']})\" for item in tool_output]\n",
    "            )\n",
    "            return f\"**Tool Output:**\\n{formatted_tool_output}\\n\"\n",
    "        except json.JSONDecodeError:\n",
    "            return f\"**Tool Output (Raw):**\\n{msg.content}\\n\"\n",
    "    else:\n",
    "        return str(msg)\n",
    "    \n",
    "# Pretty-print all messages\n",
    "for msg in messages:\n",
    "    print(format_message(msg))"
   ]
  },
  {
   "cell_type": "markdown",
   "metadata": {},
   "source": [
    "# Adding Memory"
   ]
  },
  {
   "cell_type": "code",
   "execution_count": 15,
   "metadata": {},
   "outputs": [],
   "source": [
    "from langgraph.prebuilt import create_react_agent\n",
    "from langgraph.checkpoint.memory import MemorySaver\n",
    "memory = MemorySaver()\n",
    "agent_executor_mem = create_react_agent(\n",
    "    groq_model,\n",
    "    tool_cricket,\n",
    "    checkpointer=memory\n",
    ")"
   ]
  },
  {
   "cell_type": "markdown",
   "metadata": {},
   "source": [
    "### User based memory"
   ]
  },
  {
   "cell_type": "code",
   "execution_count": 18,
   "metadata": {},
   "outputs": [],
   "source": [
    "config = {\n",
    "    \"configurable\": {\n",
    "        \"thread_id\": \"001\"\n",
    "    }\n",
    "}"
   ]
  },
  {
   "cell_type": "code",
   "execution_count": 23,
   "metadata": {},
   "outputs": [
    {
     "name": "stdout",
     "output_type": "stream",
     "text": [
      "{'agent': {'messages': [AIMessage(content='', additional_kwargs={'tool_calls': [{'id': 'call_3yvz', 'function': {'arguments': '{\"query\":\"2025 champions trophy host\"}', 'name': 'tavily_search_results_json'}, 'type': 'function'}]}, response_metadata={'token_usage': {'completion_tokens': 41, 'prompt_tokens': 1517, 'total_tokens': 1558, 'completion_time': 0.120968036, 'prompt_time': 0.057887185, 'queue_time': 0.053749553, 'total_time': 0.178855221}, 'model_name': 'llama3-70b-8192', 'system_fingerprint': 'fp_2e0feca3c9', 'finish_reason': 'tool_calls', 'logprobs': None}, id='run-8b0b8dd4-2b00-475c-8a7d-3cbb8b274e81-0', tool_calls=[{'name': 'tavily_search_results_json', 'args': {'query': '2025 champions trophy host'}, 'id': 'call_3yvz', 'type': 'tool_call'}], usage_metadata={'input_tokens': 1517, 'output_tokens': 41, 'total_tokens': 1558})]}}\n",
      "-------------------------\n",
      "{'tools': {'messages': [ToolMessage(content='[{\"title\": \"2025 ICC Champions Trophy - Wikipedia\", \"url\": \"https://en.wikipedia.org/wiki/2025_ICC_Champions_Trophy\", \"content\": \"The 2025 ICC Champions Trophy is the ninth edition of the ICC Champions Trophy. It is being hosted by Pakistan Cricket Board from 19 February to 9 March 2025. It features 15 matches being played across three venues in Pakistan and one in the United Arab Emirates. [...] Pakistan was announced as the host of the 2025 ICC Champions Trophy on 16 November 2021 as part of the 2024–2031 ICC men\\'s hosts cycle.[2] It is the first global tournament to be hosted by Pakistan after almost 29 years,[3] since the 2009 attack on the Sri Lankan team.[4] The last major tournament to take place in the country was the 1996 Cricket World Cup which it co-hosted with India and Sri Lanka.[5] United Arab Emirates was announced as a neutral venue for Indian Cricket Team matches due to [...] 2025 ICC Champions TrophyDates19 February – 9 March 2025Administrator(s)International Cricket CouncilCricket formatOne Day InternationalTournament format(s)Round-robin and single-eliminationHost(s).mw-parser-output .plainlist ol,.mw-parser-output .plainlist ul{line-height:inherit;list-style:none;margin:0;padding:0}.mw-parser-output .plainlist ol li,.mw-parser-output .plainlist ul li{margin-bottom:0}PakistanUnited Arab Emirates[a]Participants8Matches15Official websiteicc-cricket.com← 20172029 →\", \"score\": 0.9372167}, {\"title\": \"ICC Champions Trophy 2025 teams: Know each squad and players ...\", \"url\": \"https://www.olympics.com/en/news/icc-champions-trophy-teams-2025-squads-cricket\", \"content\": \"The ICC Men’s Champions Trophy 2025, scheduled in Pakistan and the United Arab Emirates (UAE) between February 19 and March 9, will see eight of the world’s top cricket nations battle for the coveted title.\\\\nThe Champions Trophy 2025, to be played in a 50-over-per-side One Day International (ODI) format, will see Pakistan host their first major global cricket tournament since the ODI World Cup in 1996.\", \"score\": 0.917251}]', name='tavily_search_results_json', id='a99f554f-8e5d-4f30-b334-954dbfed316d', tool_call_id='call_3yvz', artifact={'query': '2025 champions trophy host', 'follow_up_questions': None, 'answer': None, 'images': [], 'results': [{'url': 'https://en.wikipedia.org/wiki/2025_ICC_Champions_Trophy', 'title': '2025 ICC Champions Trophy - Wikipedia', 'content': \"The 2025 ICC Champions Trophy is the ninth edition of the ICC Champions Trophy. It is being hosted by Pakistan Cricket Board from 19 February to 9 March 2025. It features 15 matches being played across three venues in Pakistan and one in the United Arab Emirates. [...] Pakistan was announced as the host of the 2025 ICC Champions Trophy on 16 November 2021 as part of the 2024–2031 ICC men's hosts cycle.[2] It is the first global tournament to be hosted by Pakistan after almost 29 years,[3] since the 2009 attack on the Sri Lankan team.[4] The last major tournament to take place in the country was the 1996 Cricket World Cup which it co-hosted with India and Sri Lanka.[5] United Arab Emirates was announced as a neutral venue for Indian Cricket Team matches due to [...] 2025 ICC Champions TrophyDates19 February – 9 March 2025Administrator(s)International Cricket CouncilCricket formatOne Day InternationalTournament format(s)Round-robin and single-eliminationHost(s).mw-parser-output .plainlist ol,.mw-parser-output .plainlist ul{line-height:inherit;list-style:none;margin:0;padding:0}.mw-parser-output .plainlist ol li,.mw-parser-output .plainlist ul li{margin-bottom:0}PakistanUnited Arab Emirates[a]Participants8Matches15Official websiteicc-cricket.com← 20172029 →\", 'score': 0.9372167, 'raw_content': None}, {'url': 'https://www.olympics.com/en/news/icc-champions-trophy-teams-2025-squads-cricket', 'title': 'ICC Champions Trophy 2025 teams: Know each squad and players ...', 'content': 'The ICC Men’s Champions Trophy 2025, scheduled in Pakistan and the United Arab Emirates (UAE) between February 19 and March 9, will see eight of the world’s top cricket nations battle for the coveted title.\\nThe Champions Trophy 2025, to be played in a 50-over-per-side One Day International (ODI) format, will see Pakistan host their first major global cricket tournament since the ODI World Cup in 1996.', 'score': 0.917251, 'raw_content': None}], 'response_time': 2.46})]}}\n",
      "-------------------------\n",
      "{'agent': {'messages': [AIMessage(content='According to the provided information, the 2025 Champions Trophy was hosted by Pakistan, with some matches also being played in the United Arab Emirates.', additional_kwargs={}, response_metadata={'token_usage': {'completion_tokens': 30, 'prompt_tokens': 2094, 'total_tokens': 2124, 'completion_time': 0.144593365, 'prompt_time': 0.082273657, 'queue_time': 0.060435252999999994, 'total_time': 0.226867022}, 'model_name': 'llama3-70b-8192', 'system_fingerprint': 'fp_2e0feca3c9', 'finish_reason': 'stop', 'logprobs': None}, id='run-40457a55-81cf-495e-943c-e6f3eae04d09-0', usage_metadata={'input_tokens': 2094, 'output_tokens': 30, 'total_tokens': 2124})]}}\n",
      "-------------------------\n"
     ]
    }
   ],
   "source": [
    "for chunk in agent_executor_mem.stream(\n",
    "    {\n",
    "        \"messages\": [HumanMessage(\n",
    "            content=\"Which country hosted the 2025 champions trophy?\"\n",
    "        )]\n",
    "    },\n",
    "    config\n",
    "):\n",
    "    print(chunk)\n",
    "    print(\"-------------------------\")"
   ]
  }
 ],
 "metadata": {
  "kernelspec": {
   "display_name": "langgraph_agents",
   "language": "python",
   "name": "python3"
  },
  "language_info": {
   "codemirror_mode": {
    "name": "ipython",
    "version": 3
   },
   "file_extension": ".py",
   "mimetype": "text/x-python",
   "name": "python",
   "nbconvert_exporter": "python",
   "pygments_lexer": "ipython3",
   "version": "3.12.0"
  }
 },
 "nbformat": 4,
 "nbformat_minor": 2
}
